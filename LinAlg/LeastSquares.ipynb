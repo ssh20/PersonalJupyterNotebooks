{
 "cells": [
  {
   "cell_type": "markdown",
   "id": "6382be7a",
   "metadata": {},
   "source": [
    "# Introduction to Solving Systems with Python"
   ]
  },
  {
   "cell_type": "markdown",
   "id": "ab41fb67",
   "metadata": {},
   "source": [
    "## Linear Regression"
   ]
  },
  {
   "cell_type": "markdown",
   "id": "7bb935e5",
   "metadata": {},
   "source": [
    "In statistics, linear regression is a linear approach to modelling the relationship between a dependent variable and one or more independent variables. In the case of one independent variable it is called simple linear regression.\n",
    "Let $x$ be the independent variable and $y$ be the dependent variable. We will define a linear relationship between these two variables as follows:\n",
    "$$y=mx+b$$\n",
    "Given multiple points $(x_1, y_1),\\ldots,(x_k,y_k)$, we can define a system of equations as follows:\n",
    "$$\\begin{cases}y_1=mx_1+b\\\\y_2=mx_2+b\\\\\\vdots\\\\y_k=mx_k+b\\end{cases}$$\n",
    "which corresponds to the matrix system\n",
    "$$\\begin{pmatrix}y_1\\\\\\vdots\\\\y_k\\end{pmatrix} = \\begin{pmatrix}x_1&1\\\\x_2&1\\\\\\vdots\\\\x_k&1\\end{pmatrix}\\begin{pmatrix}m\\\\b\\end{pmatrix}$$"
   ]
  },
  {
   "cell_type": "markdown",
   "id": "16b2c938",
   "metadata": {},
   "source": [
    "Given the points $(-8, -2)$, $(-3, 1)$, $(-1, 3)$, $(7, 6)$, $(10, 10)$, let us find the line of best fit through these points.\n",
    "First let's split the points up into their own vectors."
   ]
  },
  {
   "cell_type": "code",
   "execution_count": 223,
   "id": "9ba6de94",
   "metadata": {},
   "outputs": [
    {
     "name": "stdout",
     "output_type": "stream",
     "text": [
      "[-8, -3, -1, 7, 10]\n",
      "[-2, 1, 3, 6, 10]\n"
     ]
    }
   ],
   "source": [
    "points = [(-8,-2), (-3,1), (-1,3), (7,6), (10,10)]\n",
    "x_vals = [pt[0] for pt in points]\n",
    "y_vals = [pt[1] for pt in points]\n",
    "print(x_vals)\n",
    "print(y_vals)"
   ]
  },
  {
   "cell_type": "markdown",
   "id": "7ed5bbee",
   "metadata": {},
   "source": [
    "Now let's define a plot."
   ]
  },
  {
   "cell_type": "code",
   "execution_count": 224,
   "id": "85b02805",
   "metadata": {},
   "outputs": [
    {
     "data": {
      "text/plain": [
       "(-5.0, 15.0)"
      ]
     },
     "execution_count": 224,
     "metadata": {},
     "output_type": "execute_result"
    },
    {
     "data": {
      "image/png": "[encoded data removed]",
      "text/plain": [
       "<Figure size 432x288 with 1 Axes>"
      ]
     },
     "metadata": {
      "needs_background": "light"
     },
     "output_type": "display_data"
    }
   ],
   "source": [
    "import matplotlib.pyplot as plt\n",
    "fig1 = plt.figure()\n",
    "ax1 = fig1.add_subplot(111, aspect='equal')\n",
    "\n",
    "#define axes\n",
    "ax1.xaxis.set_ticks_position('bottom')\n",
    "ax1.yaxis.set_ticks_position('left')\n",
    "ax1.spines['left'].set_position('center')\n",
    "ax1.spines['right'].set_color('none')\n",
    "ax1.spines['bottom'].set_position('center')\n",
    "ax1.spines['top'].set_color('none')\n",
    "\n",
    "#define window\n",
    "x_min = -10\n",
    "x_max = 12\n",
    "y_min = -5\n",
    "y_max = 15\n",
    "x_lim = [x_min, x_max]\n",
    "y_lim = [y_min, y_max]\n",
    "ax1.set_xlim(x_lim)\n",
    "ax1.set_ylim(y_lim)"
   ]
  },
  {
   "cell_type": "code",
   "execution_count": 225,
   "id": "d4d718b7",
   "metadata": {},
   "outputs": [
    {
     "data": {
      "image/png": "[encoded data removed]",
      "text/plain": [
       "<Figure size 432x288 with 1 Axes>"
      ]
     },
     "metadata": {
      "needs_background": "light"
     },
     "output_type": "display_data"
    }
   ],
   "source": [
    "pts_plot = ax1.plot(x_vals, y_vals, 'ro')\n",
    "plt.sca(ax1) #set current axis\n",
    "plt.show()"
   ]
  },
  {
   "cell_type": "markdown",
   "id": "f74246a3",
   "metadata": {},
   "source": [
    "Now let's solve the linear system. Since the points are $(-8,-2)$, $(-3,1)$, $(-1,3)$, $(7,6)$, $(10,10)$, we have the system\n",
    "$$\\begin{cases}-2 = -8m + b\\\\1=-3m + b \\\\3=-1m+b\\\\6 = 7m+b\\\\10=10m+b\\end{cases}$$\n",
    "Which corresponds to the matrix equation\n",
    "$$\\begin{pmatrix}-2\\\\1\\\\3\\\\6\\\\10\\end{pmatrix} = \\begin{pmatrix}-8&1\\\\-3&1\\\\-1&1\\\\7&1\\\\10&1\\end{pmatrix}$$\n",
    "Let's define the matrix in python."
   ]
  },
  {
   "cell_type": "code",
   "execution_count": 226,
   "id": "4daf8787",
   "metadata": {},
   "outputs": [],
   "source": [
    "y = y_vals.copy()\n",
    "A = [[-8,1],[-3,1], [-1,1], [7,1], [10,1]]"
   ]
  },
  {
   "cell_type": "markdown",
   "id": "c187fd81",
   "metadata": {},
   "source": [
    "If we were to solve this system using row-reduction, there'd be no solution (which makes sense, since there is clearly no line that goes through all the points.) So we solve the normal equation\n",
    "$$A^TAx = A^Ty$$\n",
    "$$\\begin{pmatrix}-8&-3&-1&7&10\\\\1&1&1&1&1\\end{pmatrix}\\begin{pmatrix}-2\\\\1\\\\3\\\\6\\\\10\\end{pmatrix} = \\begin{pmatrix}-8&-3&-1&7&10\\\\1&1&1&1&1\\end{pmatrix}\\begin{pmatrix}-8&1\\\\-3&1\\\\-1&1\\\\7&1\\\\10&1\\end{pmatrix}$$\n",
    "Let's use the numpy library in Python to multiply the matrices."
   ]
  },
  {
   "cell_type": "code",
   "execution_count": 227,
   "id": "2ab80117",
   "metadata": {},
   "outputs": [
    {
     "name": "stdout",
     "output_type": "stream",
     "text": [
      "This is A^T*A:\n",
      "[[223   5]\n",
      " [  5   5]]\n",
      "This is A^T*y:\n",
      "[152  18]\n"
     ]
    }
   ],
   "source": [
    "import numpy as np\n",
    "\n",
    "At = np.transpose(A)\n",
    "At_A = np.matmul(At, A)\n",
    "At_y = np.matmul(At, y)\n",
    "print(\"This is A^T*A:\")\n",
    "print(At_A)\n",
    "print(\"This is A^T*y:\")\n",
    "print(At_y)"
   ]
  },
  {
   "cell_type": "markdown",
   "id": "94db919f",
   "metadata": {},
   "source": [
    "Now, one way of solving for $x$ would be to calculate the inverse of $A^TA$ and multiply it to $A^Ty$, so\n",
    "$$x=(A^TA)^{-1}A^T y$$"
   ]
  },
  {
   "cell_type": "code",
   "execution_count": 228,
   "id": "92800b5b",
   "metadata": {},
   "outputs": [
    {
     "name": "stdout",
     "output_type": "stream",
     "text": [
      "[[ 0.00458716 -0.00458716]\n",
      " [-0.00458716  0.20458716]]\n"
     ]
    }
   ],
   "source": [
    "import numpy.linalg as la\n",
    "At_A_inv = la.inv(At_A)\n",
    "print(At_A_inv)"
   ]
  },
  {
   "cell_type": "code",
   "execution_count": 229,
   "id": "2e0e966b",
   "metadata": {},
   "outputs": [
    {
     "name": "stdout",
     "output_type": "stream",
     "text": [
      "[0.6146789 2.9853211]\n"
     ]
    }
   ],
   "source": [
    "x_sol = np.matmul(At_A_inv, At_y)\n",
    "print(x_sol)"
   ]
  },
  {
   "cell_type": "markdown",
   "id": "771fb82a",
   "metadata": {},
   "source": [
    "The first element of $x$ corresponds to the slope $m$ of our best-fit line, and the second element corresponds to the $y$-intercept $b$ of our best-fit line. Let's plot it:\n"
   ]
  },
  {
   "cell_type": "code",
   "execution_count": 230,
   "id": "7cbb9a11",
   "metadata": {},
   "outputs": [],
   "source": [
    "m = x_sol[0]\n",
    "b = x_sol[1]"
   ]
  },
  {
   "cell_type": "code",
   "execution_count": 231,
   "id": "d807c21f",
   "metadata": {},
   "outputs": [
    {
     "data": {
      "image/png": "[encoded data removed]",
      "text/plain": [
       "<Figure size 432x288 with 1 Axes>"
      ]
     },
     "metadata": {
      "needs_background": "light"
     },
     "output_type": "display_data"
    }
   ],
   "source": [
    "x = np.linspace(x_min, x_max, 100)\n",
    "lin_plot = ax1.plot(x, m*x + b, label = 'linear')\n",
    "ax1.legend()\n",
    "plt.sca(ax1)\n",
    "plt.show()"
   ]
  },
  {
   "cell_type": "markdown",
   "id": "a6ac2235",
   "metadata": {},
   "source": [
    "To calculate the residual $r^2$ value, we will find the norm between the approximated y-values and the actual:"
   ]
  },
  {
   "cell_type": "code",
   "execution_count": 232,
   "id": "4340cda0",
   "metadata": {},
   "outputs": [
    {
     "name": "stdout",
     "output_type": "stream",
     "text": [
      "The approximated y-values are:\n",
      "[-1.93211009  1.1412844   2.3706422   7.28807339  9.13211009]\n",
      "The actual y-values are:\n",
      "[-2, 1, 3, 6, 10]\n"
     ]
    }
   ],
   "source": [
    "y_approx = np.matmul(A, x_sol)\n",
    "print(\"The approximated y-values are:\")\n",
    "print(y_approx)\n",
    "print(\"The actual y-values are:\")\n",
    "print(y)"
   ]
  },
  {
   "cell_type": "code",
   "execution_count": 233,
   "id": "f32ce24c",
   "metadata": {},
   "outputs": [
    {
     "name": "stdout",
     "output_type": "stream",
     "text": [
      "2.8330275229357778\n"
     ]
    }
   ],
   "source": [
    "residual = np.subtract(y, y_approx)\n",
    "r_sq = la.norm(residual)**2\n",
    "print(r_sq)"
   ]
  },
  {
   "cell_type": "markdown",
   "id": "c058a191",
   "metadata": {},
   "source": [
    "Now let's use Python's built-in function to calculate the least-squares solution:"
   ]
  },
  {
   "cell_type": "code",
   "execution_count": 234,
   "id": "ede3e801",
   "metadata": {},
   "outputs": [
    {
     "name": "stdout",
     "output_type": "stream",
     "text": [
      "(array([0.6146789, 2.9853211]), array([2.83302752]), 2, array([14.93702175,  2.21028988]))\n"
     ]
    }
   ],
   "source": [
    "print(la.lstsq(A, y, rcond=None)) #rcond is the Cut-off ratio for small singular values of a."
   ]
  },
  {
   "cell_type": "markdown",
   "id": "976d9168",
   "metadata": {},
   "source": [
    "And let's compare it to what we found:"
   ]
  },
  {
   "cell_type": "code",
   "execution_count": 235,
   "id": "22961866",
   "metadata": {},
   "outputs": [
    {
     "name": "stdout",
     "output_type": "stream",
     "text": [
      "\n",
      "The solution vector we found, the residual we found, and the rank of A is:\n",
      "[0.6146789 2.9853211], 2.8330275229357778, 2\n"
     ]
    }
   ],
   "source": [
    "print(\"The solution vector we found, the residual we found, and the rank of A is:\")\n",
    "print(x_sol, r_sq, la.matrix_rank(A), sep=\", \")"
   ]
  },
  {
   "cell_type": "markdown",
   "id": "5069204a",
   "metadata": {},
   "source": [
    "## Quadratic regression"
   ]
  },
  {
   "cell_type": "markdown",
   "id": "f1751434",
   "metadata": {},
   "source": [
    "Let us try to find the quadratic equation $y=ax^2+bx+c$ that best fits this curve. To do this, since the points are $(-8,-2)$, $(-3,1)$, $(-1,3)$, $(7,6)$, $(10,10)$, we have the system \n",
    "$$\\begin{cases}-2 = a(-8)^2 + b(-8) + c\\\\1=a(-3)^2 + b(-3) + c \\\\3=a(-1)^2 + b(-1) + c\\\\6 = a(7)^2 + b(7) + c\\\\10=a(10)^2 + b(10) + c\\end{cases}$$\n",
    "Which corresponds to the matrix equation\n",
    "$$\\begin{pmatrix}-2\\\\1\\\\3\\\\6\\\\10\\end{pmatrix} = \\begin{pmatrix}(-8)^2&-8&1\\\\(-3)^2&-3&1\\\\(-1)^2&-1&1\\\\7^2&7&1\\\\10^2&10&1\\end{pmatrix}$$\n",
    "Let's define the matrix."
   ]
  },
  {
   "cell_type": "code",
   "execution_count": 236,
   "id": "78ab73fe",
   "metadata": {},
   "outputs": [],
   "source": [
    "A2 = [[(-8)**2, (-8), 1], [(-3)**2, (-3), 1], [(-1)**2, (-1), 1], [7**2, 7, 1], [10**2, 10, 1]]\n"
   ]
  },
  {
   "cell_type": "markdown",
   "id": "f28a948b",
   "metadata": {},
   "source": [
    "Now let's solve the normal equation\n",
    "$$A^TAx = A^Ty$$"
   ]
  },
  {
   "cell_type": "code",
   "execution_count": 237,
   "id": "feac0203",
   "metadata": {},
   "outputs": [
    {
     "name": "stdout",
     "output_type": "stream",
     "text": [
      "[0.00367111 0.60491173 2.83135683]\n"
     ]
    }
   ],
   "source": [
    "A2t = np.transpose(A2)\n",
    "A2t_A2 = np.matmul(A2t, A2)\n",
    "A2t_y = np.matmul(A2t, y)\n",
    "\n",
    "A2t_A2_inv = la.inv(A2t_A2)\n",
    "x_sol_2 = np.matmul(A2t_A2_inv, A2t_y)\n",
    "print(x_sol_2)"
   ]
  },
  {
   "cell_type": "code",
   "execution_count": 238,
   "id": "4c264d82",
   "metadata": {},
   "outputs": [],
   "source": [
    "a2 = x_sol_2[0]\n",
    "b2 = x_sol_2[1]\n",
    "c2 = x_sol_2[2]\n",
    "quad_plot = ax1.plot(x, a2*x**2 + b2*x + c2, label = 'quadratic')"
   ]
  },
  {
   "cell_type": "code",
   "execution_count": 239,
   "id": "a4b9c236",
   "metadata": {},
   "outputs": [
    {
     "data": {
      "image/png": "[encoded data removed]",
      "text/plain": [
       "<Figure size 432x288 with 1 Axes>"
      ]
     },
     "metadata": {
      "needs_background": "light"
     },
     "output_type": "display_data"
    }
   ],
   "source": [
    "ax1.legend()\n",
    "plt.sca(ax1)\n",
    "plt.show()"
   ]
  },
  {
   "cell_type": "markdown",
   "id": "89697be4",
   "metadata": {},
   "source": [
    "The quadratic curve is hard to see with the linear curve there, so let's remove the linear one for now:"
   ]
  },
  {
   "cell_type": "code",
   "execution_count": 242,
   "id": "f7057678",
   "metadata": {},
   "outputs": [
    {
     "data": {
      "text/plain": [
       "[None]"
      ]
     },
     "execution_count": 242,
     "metadata": {},
     "output_type": "execute_result"
    }
   ],
   "source": [
    "lin_plot[0].set(visible=False)"
   ]
  },
  {
   "cell_type": "code",
   "execution_count": 243,
   "id": "f65e8edf",
   "metadata": {},
   "outputs": [
    {
     "data": {
      "image/png": "[encoded data removed]",
      "text/plain": [
       "<Figure size 432x288 with 1 Axes>"
      ]
     },
     "metadata": {
      "needs_background": "light"
     },
     "output_type": "display_data"
    }
   ],
   "source": [
    "ax1.legend()\n",
    "plt.sca(ax1)\n",
    "plt.show()"
   ]
  },
  {
   "cell_type": "markdown",
   "id": "7a398f94",
   "metadata": {},
   "source": [
    "And if we want to see the linear curve again:"
   ]
  },
  {
   "cell_type": "code",
   "execution_count": 244,
   "id": "4e33f208",
   "metadata": {},
   "outputs": [
    {
     "data": {
      "text/plain": [
       "[None]"
      ]
     },
     "execution_count": 244,
     "metadata": {},
     "output_type": "execute_result"
    }
   ],
   "source": [
    "lin_plot[0].set(visible=True)"
   ]
  },
  {
   "cell_type": "code",
   "execution_count": 245,
   "id": "52083316",
   "metadata": {},
   "outputs": [
    {
     "data": {
      "image/png": "[encoded data removed]",
      "text/plain": [
       "<Figure size 432x288 with 1 Axes>"
      ]
     },
     "metadata": {
      "needs_background": "light"
     },
     "output_type": "display_data"
    }
   ],
   "source": [
    "ax1.legend()\n",
    "plt.sca(ax1)\n",
    "plt.show()"
   ]
  },
  {
   "cell_type": "markdown",
   "id": "0cf18c60",
   "metadata": {},
   "source": [
    "Anyways, let's check our work: first let's find the residual:"
   ]
  },
  {
   "cell_type": "code",
   "execution_count": 248,
   "id": "590dcf17",
   "metadata": {},
   "outputs": [
    {
     "name": "stdout",
     "output_type": "stream",
     "text": [
      "[-1.77298606  1.04966162  2.23011621  7.24562326  9.24758498]\n"
     ]
    }
   ],
   "source": [
    "y_approx_2 = np.matmul(A2, x_sol_2)\n",
    "print(y_approx_2)"
   ]
  },
  {
   "cell_type": "code",
   "execution_count": 249,
   "id": "d1a49423",
   "metadata": {},
   "outputs": [],
   "source": [
    "residual_2 = np.subtract(y, y_approx_2)\n",
    "r_sq_2 = la.norm(residual_2)**2"
   ]
  },
  {
   "cell_type": "code",
   "execution_count": 250,
   "id": "ae8d66b2",
   "metadata": {},
   "outputs": [
    {
     "name": "stdout",
     "output_type": "stream",
     "text": [
      "(array([0.00367111, 0.60491173, 2.83135683]), array([2.76442831]), 3, array([128.92370226,  13.55962839,   1.3473953 ]))\n"
     ]
    }
   ],
   "source": [
    "print(la.lstsq(A2, y, rcond=None)) #rcond is the Cut-off ratio for small singular values of a."
   ]
  },
  {
   "cell_type": "code",
   "execution_count": 251,
   "id": "f849ba41",
   "metadata": {},
   "outputs": [
    {
     "name": "stdout",
     "output_type": "stream",
     "text": [
      "\n",
      "The solution vector we found, the residual we found, and the rank of A is:\n",
      "[0.00367111 0.60491173 2.83135683], 2.764428314253227, 3\n"
     ]
    }
   ],
   "source": [
    "print(\"\\nThe solution vector we found, the residual we found, and the rank of A is:\")\n",
    "print(x_sol_2, r_sq_2, la.matrix_rank(A2), sep=\", \")"
   ]
  },
  {
   "cell_type": "markdown",
   "id": "63010f59",
   "metadata": {},
   "source": [
    "## k-th degree regression"
   ]
  },
  {
   "cell_type": "markdown",
   "id": "eaf7a0f7",
   "metadata": {},
   "source": [
    "Let's generalize our previous steps by defining functions to generalize our process. To find our system matrix $A$ for a polynomial of degree $k$, we define the following function:"
   ]
  },
  {
   "cell_type": "code",
   "execution_count": 281,
   "id": "c3b33741",
   "metadata": {},
   "outputs": [],
   "source": [
    "def sys_matrix(k, x_vals):\n",
    "    return [[x**i for i in range(k, -1, -1)] for x in x_vals]"
   ]
  },
  {
   "cell_type": "markdown",
   "id": "b38d64da",
   "metadata": {},
   "source": [
    "And, given a system matrix, let's define a function that solves for the solution vector:"
   ]
  },
  {
   "cell_type": "code",
   "execution_count": 282,
   "id": "6e3acc92",
   "metadata": {},
   "outputs": [],
   "source": [
    "def solve_system(A, y_vals):\n",
    "    At = np.transpose(A)\n",
    "    AtA = np.matmul(At, A)\n",
    "    AtA_inv = la.inv(AtA)\n",
    "    At_y = np.matmul(At, y)\n",
    "    return np.matmul(AtA_inv, At_y)"
   ]
  },
  {
   "cell_type": "markdown",
   "id": "adcb2ec9",
   "metadata": {},
   "source": [
    "So let's apply the above to $k=1$ and $k=2$ to check our work:"
   ]
  },
  {
   "cell_type": "code",
   "execution_count": 283,
   "id": "f5e3de97",
   "metadata": {},
   "outputs": [
    {
     "name": "stdout",
     "output_type": "stream",
     "text": [
      "The system matrix for k=1 is \n",
      "[[-8, 1], [-3, 1], [-1, 1], [7, 1], [10, 1]]\n",
      "The solution vector for k=1 is \n"
     ]
    },
    {
     "data": {
      "text/plain": [
       "array([0.6146789, 2.9853211])"
      ]
     },
     "execution_count": 283,
     "metadata": {},
     "output_type": "execute_result"
    }
   ],
   "source": [
    "print(\"The system matrix for k=1 is \")\n",
    "print(sys_matrix(1, x_vals))\n",
    "print(\"The solution vector for k=1 is \")\n",
    "solve_system(sys_matrix(1, x_vals),y_vals)"
   ]
  },
  {
   "cell_type": "code",
   "execution_count": 284,
   "id": "6d4ed699",
   "metadata": {},
   "outputs": [
    {
     "name": "stdout",
     "output_type": "stream",
     "text": [
      "The values we got earlier for k=1 were:\n",
      "[[-8, 1], [-3, 1], [-1, 1], [7, 1], [10, 1]]\n",
      "[0.6146789 2.9853211]\n"
     ]
    }
   ],
   "source": [
    "print(\"The values we got earlier for k=1 were:\")\n",
    "print(A)\n",
    "print(x_sol)"
   ]
  },
  {
   "cell_type": "code",
   "execution_count": 285,
   "id": "4cba8adb",
   "metadata": {},
   "outputs": [
    {
     "name": "stdout",
     "output_type": "stream",
     "text": [
      "The system matrix for k=2 is \n",
      "[[64, -8, 1], [9, -3, 1], [1, -1, 1], [49, 7, 1], [100, 10, 1]]\n",
      "The solution vector for k=2 is \n"
     ]
    },
    {
     "data": {
      "text/plain": [
       "array([0.00367111, 0.60491173, 2.83135683])"
      ]
     },
     "execution_count": 285,
     "metadata": {},
     "output_type": "execute_result"
    }
   ],
   "source": [
    "print(\"The system matrix for k=2 is \")\n",
    "print(sys_matrix(2, x_vals))\n",
    "print(\"The solution vector for k=2 is \")\n",
    "solve_system(sys_matrix(2, x_vals),y_vals)"
   ]
  },
  {
   "cell_type": "code",
   "execution_count": 286,
   "id": "79c4302d",
   "metadata": {},
   "outputs": [
    {
     "name": "stdout",
     "output_type": "stream",
     "text": [
      "The values we got earlier for k=2 were:\n",
      "[[64, -8, 1], [9, -3, 1], [1, -1, 1], [49, 7, 1], [100, 10, 1]]\n",
      "[0.00367111 0.60491173 2.83135683]\n"
     ]
    }
   ],
   "source": [
    "print(\"The values we got earlier for k=2 were:\")\n",
    "print(A2)\n",
    "print(x_sol_2)"
   ]
  },
  {
   "cell_type": "markdown",
   "id": "83ab5d13",
   "metadata": {},
   "source": [
    "Now let's create a function to plot a curve given a range of $x$-values and a solution vector:"
   ]
  },
  {
   "cell_type": "code",
   "execution_count": null,
   "id": "055238a1",
   "metadata": {},
   "outputs": [],
   "source": [
    "def plots(x, sol_vec):\n",
    "    sol = np.zeros(len(x))\n",
    "    "
   ]
  },
  {
   "cell_type": "code",
   "execution_count": 287,
   "id": "f4e768d0",
   "metadata": {},
   "outputs": [],
   "source": [
    "x_sol_3 = solve_system(sys_matrix(3, x_vals),y_vals)"
   ]
  },
  {
   "cell_type": "code",
   "execution_count": null,
   "id": "cc4789d0",
   "metadata": {},
   "outputs": [],
   "source": [
    "a3 = x_sol_3[0]\n",
    "b3 = x_sol_3[1]\n",
    "c3 = x_sol_3[3]\n",
    "d3 = x_sol_3[4]\n",
    "quad_plot = ax1.plot(x, a3*x**3 + b3*x**2 + c2, label = 'quadratic')"
   ]
  }
 ],
 "metadata": {
  "kernelspec": {
   "display_name": "Python 3",
   "language": "python",
   "name": "python3"
  },
  "language_info": {
   "codemirror_mode": {
    "name": "ipython",
    "version": 3
   },
   "file_extension": ".py",
   "mimetype": "text/x-python",
   "name": "python",
   "nbconvert_exporter": "python",
   "pygments_lexer": "ipython3",
   "version": "3.8.8"
  }
 },
 "nbformat": 4,
 "nbformat_minor": 5
}
